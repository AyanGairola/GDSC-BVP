{
 "cells": [
  {
   "cell_type": "code",
   "execution_count": 1,
   "id": "ab0c0692-1d3b-4da9-a1b1-a46890d776d5",
   "metadata": {},
   "outputs": [],
   "source": [
    "import numpy as np \n",
    "import pandas as pd\n",
    "from sklearn.tree import DecisionTreeClassifier\n",
    "from sklearn.model_selection import train_test_split, cross_val_score \n",
    "from sklearn.metrics import accuracy_score "
   ]
  },
  {
   "cell_type": "code",
   "execution_count": 2,
   "id": "f9c44ea0-8baf-4bf2-8749-e1f38033ca45",
   "metadata": {},
   "outputs": [],
   "source": [
    "df=pd.read_csv(\"./prescription.csv\")"
   ]
  },
  {
   "cell_type": "code",
   "execution_count": 3,
   "id": "b21ef156-2fb5-4762-8f8c-afc09e52d716",
   "metadata": {},
   "outputs": [
    {
     "data": {
      "text/html": [
       "<div>\n",
       "<style scoped>\n",
       "    .dataframe tbody tr th:only-of-type {\n",
       "        vertical-align: middle;\n",
       "    }\n",
       "\n",
       "    .dataframe tbody tr th {\n",
       "        vertical-align: top;\n",
       "    }\n",
       "\n",
       "    .dataframe thead th {\n",
       "        text-align: right;\n",
       "    }\n",
       "</style>\n",
       "<table border=\"1\" class=\"dataframe\">\n",
       "  <thead>\n",
       "    <tr style=\"text-align: right;\">\n",
       "      <th></th>\n",
       "      <th>disease</th>\n",
       "      <th>age</th>\n",
       "      <th>gender</th>\n",
       "      <th>severity</th>\n",
       "      <th>drug</th>\n",
       "    </tr>\n",
       "  </thead>\n",
       "  <tbody>\n",
       "    <tr>\n",
       "      <th>0</th>\n",
       "      <td>diarrhea</td>\n",
       "      <td>4</td>\n",
       "      <td>male</td>\n",
       "      <td>LOW</td>\n",
       "      <td>promegranate drink</td>\n",
       "    </tr>\n",
       "    <tr>\n",
       "      <th>1</th>\n",
       "      <td>diarrhea</td>\n",
       "      <td>4</td>\n",
       "      <td>male</td>\n",
       "      <td>NORMAL</td>\n",
       "      <td>lime juice</td>\n",
       "    </tr>\n",
       "    <tr>\n",
       "      <th>2</th>\n",
       "      <td>diarrhea</td>\n",
       "      <td>5</td>\n",
       "      <td>male</td>\n",
       "      <td>LOW</td>\n",
       "      <td>promegranate drink</td>\n",
       "    </tr>\n",
       "    <tr>\n",
       "      <th>3</th>\n",
       "      <td>diarrhea</td>\n",
       "      <td>5</td>\n",
       "      <td>male</td>\n",
       "      <td>NORMAL</td>\n",
       "      <td>lime juice</td>\n",
       "    </tr>\n",
       "    <tr>\n",
       "      <th>4</th>\n",
       "      <td>diarrhea</td>\n",
       "      <td>6</td>\n",
       "      <td>male</td>\n",
       "      <td>LOW</td>\n",
       "      <td>promegranate drink</td>\n",
       "    </tr>\n",
       "    <tr>\n",
       "      <th>...</th>\n",
       "      <td>...</td>\n",
       "      <td>...</td>\n",
       "      <td>...</td>\n",
       "      <td>...</td>\n",
       "      <td>...</td>\n",
       "    </tr>\n",
       "    <tr>\n",
       "      <th>1283</th>\n",
       "      <td>diarrhea</td>\n",
       "      <td>60</td>\n",
       "      <td>male</td>\n",
       "      <td>NORMAL</td>\n",
       "      <td>kutajarishta</td>\n",
       "    </tr>\n",
       "    <tr>\n",
       "      <th>1284</th>\n",
       "      <td>diarrhea</td>\n",
       "      <td>60</td>\n",
       "      <td>male</td>\n",
       "      <td>LOW</td>\n",
       "      <td>ajamodarka</td>\n",
       "    </tr>\n",
       "    <tr>\n",
       "      <th>1285</th>\n",
       "      <td>diarrhea</td>\n",
       "      <td>60</td>\n",
       "      <td>female</td>\n",
       "      <td>HIGH</td>\n",
       "      <td>sitopaladi churna</td>\n",
       "    </tr>\n",
       "    <tr>\n",
       "      <th>1286</th>\n",
       "      <td>diarrhea</td>\n",
       "      <td>60</td>\n",
       "      <td>female</td>\n",
       "      <td>NORMAL</td>\n",
       "      <td>kutajarishta</td>\n",
       "    </tr>\n",
       "    <tr>\n",
       "      <th>1287</th>\n",
       "      <td>diarrhea</td>\n",
       "      <td>60</td>\n",
       "      <td>female</td>\n",
       "      <td>LOW</td>\n",
       "      <td>ajamodarka</td>\n",
       "    </tr>\n",
       "  </tbody>\n",
       "</table>\n",
       "<p>1288 rows × 5 columns</p>\n",
       "</div>"
      ],
      "text/plain": [
       "       disease  age  gender severity                drug\n",
       "0     diarrhea    4    male      LOW  promegranate drink\n",
       "1     diarrhea    4    male   NORMAL          lime juice\n",
       "2     diarrhea    5    male      LOW  promegranate drink\n",
       "3     diarrhea    5    male   NORMAL          lime juice\n",
       "4     diarrhea    6    male      LOW  promegranate drink\n",
       "...        ...  ...     ...      ...                 ...\n",
       "1283  diarrhea   60    male   NORMAL        kutajarishta\n",
       "1284  diarrhea   60    male      LOW          ajamodarka\n",
       "1285  diarrhea   60  female     HIGH   sitopaladi churna\n",
       "1286  diarrhea   60  female   NORMAL        kutajarishta\n",
       "1287  diarrhea   60  female      LOW          ajamodarka\n",
       "\n",
       "[1288 rows x 5 columns]"
      ]
     },
     "execution_count": 3,
     "metadata": {},
     "output_type": "execute_result"
    }
   ],
   "source": [
    "df.drop_duplicates(inplace=True)\n",
    "df"
   ]
  },
  {
   "cell_type": "code",
   "execution_count": 4,
   "id": "63b266fe-6d6a-4ddf-8138-50ce8caf4176",
   "metadata": {},
   "outputs": [
    {
     "data": {
      "text/plain": [
       "Index(['disease', 'age', 'gender', 'severity', 'drug'], dtype='object')"
      ]
     },
     "execution_count": 4,
     "metadata": {},
     "output_type": "execute_result"
    }
   ],
   "source": [
    "df.columns"
   ]
  },
  {
   "cell_type": "code",
   "execution_count": 5,
   "id": "4bd63961-7a31-4c97-8369-130952dd9a84",
   "metadata": {},
   "outputs": [
    {
     "data": {
      "text/plain": [
       "False"
      ]
     },
     "execution_count": 5,
     "metadata": {},
     "output_type": "execute_result"
    }
   ],
   "source": [
    "df.isnull().values.any()"
   ]
  },
  {
   "cell_type": "code",
   "execution_count": 6,
   "id": "d5e11317-d65d-47b1-b0ff-3db612b3774c",
   "metadata": {},
   "outputs": [
    {
     "name": "stdout",
     "output_type": "stream",
     "text": [
      "(1288, 4)\n",
      "(1288,)\n"
     ]
    }
   ],
   "source": [
    "X = df[[\"disease\",\"age\",\"gender\",\"severity\"]].values\n",
    "y = df[\"drug\"].values\n",
    "print(X.shape)\n",
    "print(y.shape)"
   ]
  },
  {
   "cell_type": "code",
   "execution_count": 7,
   "id": "2a4173f9-e944-4f05-ad51-bb2b5694db0b",
   "metadata": {},
   "outputs": [],
   "source": [
    "from sklearn import preprocessing\n",
    "\n",
    "label_encoders = {\n",
    "    'disease': preprocessing.LabelEncoder().fit(['diarrhea', 'gastritis', 'arthritis', 'migraine']),\n",
    "    'gender': preprocessing.LabelEncoder().fit(['female', 'male']),\n",
    "    # 'age': preprocessing.LabelEncoder().fit(['4', '5', '6', '7', '8', '9', '10', '11', '12', '13', '14', '15', '16', '17', '18', '19', '20', '21', '22', '23', '24', '25', '26', '27', '28', '29', '30', '31']),\n",
    "    'severity': preprocessing.LabelEncoder().fit(['LOW', 'NORMAL', 'HIGH'])\n",
    "}\n",
    "\n",
    "X[:, 0] = label_encoders['disease'].transform(X[:, 0])\n",
    "X[:, 2] = label_encoders['gender'].transform(X[:, 2])\n",
    "# X[:, 1] = label_encoders['age'].transform(X[:, 1])\n",
    "X[:, 3] = label_encoders['severity'].transform(X[:, 3])\n"
   ]
  },
  {
   "cell_type": "code",
   "execution_count": 8,
   "id": "9300ae36-ce72-48ab-a910-00f5e60dcd2a",
   "metadata": {},
   "outputs": [
    {
     "data": {
      "text/plain": [
       "array([[1, 4, 1, 1],\n",
       "       [1, 4, 1, 2],\n",
       "       [1, 5, 1, 1],\n",
       "       ...,\n",
       "       [1, 60, 0, 0],\n",
       "       [1, 60, 0, 2],\n",
       "       [1, 60, 0, 1]], dtype=object)"
      ]
     },
     "execution_count": 8,
     "metadata": {},
     "output_type": "execute_result"
    }
   ],
   "source": [
    "X"
   ]
  },
  {
   "cell_type": "code",
   "execution_count": 9,
   "id": "ac20a306-ff60-40dc-88b7-d194cbf350e9",
   "metadata": {},
   "outputs": [],
   "source": [
    "from sklearn.preprocessing import StandardScaler\n",
    "\n",
    "\n",
    "scaler = StandardScaler()\n",
    "X[:, 1] = scaler.fit_transform(X[:, 1].reshape(-1, 1)).flatten()"
   ]
  },
  {
   "cell_type": "code",
   "execution_count": 10,
   "id": "7010e230-b160-4a57-812e-79041826c1d4",
   "metadata": {},
   "outputs": [
    {
     "data": {
      "text/plain": [
       "array([[1, -1.9093735317522067, 1, 1],\n",
       "       [1, -1.9093735317522067, 1, 2],\n",
       "       [1, -1.8449676782822495, 1, 1],\n",
       "       ...,\n",
       "       [1, 1.6973542625653917, 0, 0],\n",
       "       [1, 1.6973542625653917, 0, 2],\n",
       "       [1, 1.6973542625653917, 0, 1]], dtype=object)"
      ]
     },
     "execution_count": 10,
     "metadata": {},
     "output_type": "execute_result"
    }
   ],
   "source": [
    "X"
   ]
  },
  {
   "cell_type": "code",
   "execution_count": 23,
   "id": "7562cc1d-11b7-49c6-b9ab-81ab68f81b32",
   "metadata": {},
   "outputs": [],
   "source": [
    "X_train, X_test, y_train, y_test = train_test_split(X, y, test_size=0.2, random_state=1)"
   ]
  },
  {
   "cell_type": "code",
   "execution_count": 24,
   "id": "4a24db77-85ee-4043-a878-afe1a6acfa0e",
   "metadata": {},
   "outputs": [
    {
     "name": "stdout",
     "output_type": "stream",
     "text": [
      "train data : (1030, 4)\n",
      "\n",
      "test data : (258, 4)\n",
      "\n",
      "train target : (1030,)\n",
      "\n",
      "test target : (258,)\n"
     ]
    }
   ],
   "source": [
    "print(\"train data :\", X_train.shape)\n",
    "print(\"\\ntest data :\", X_test.shape)\n",
    "print(\"\\ntrain target :\", y_train.shape)\n",
    "print(\"\\ntest target :\",y_test.shape)"
   ]
  },
  {
   "cell_type": "code",
   "execution_count": 25,
   "id": "63ec3704-448e-457b-8a3f-dc5d7940ab3f",
   "metadata": {},
   "outputs": [],
   "source": [
    "from sklearn.ensemble import RandomForestClassifier"
   ]
  },
  {
   "cell_type": "code",
   "execution_count": 26,
   "id": "834b0be4-f4bc-4861-b711-fbf5d9299f53",
   "metadata": {},
   "outputs": [
    {
     "data": {
      "text/html": [
       "<style>#sk-container-id-3 {color: black;background-color: white;}#sk-container-id-3 pre{padding: 0;}#sk-container-id-3 div.sk-toggleable {background-color: white;}#sk-container-id-3 label.sk-toggleable__label {cursor: pointer;display: block;width: 100%;margin-bottom: 0;padding: 0.3em;box-sizing: border-box;text-align: center;}#sk-container-id-3 label.sk-toggleable__label-arrow:before {content: \"▸\";float: left;margin-right: 0.25em;color: #696969;}#sk-container-id-3 label.sk-toggleable__label-arrow:hover:before {color: black;}#sk-container-id-3 div.sk-estimator:hover label.sk-toggleable__label-arrow:before {color: black;}#sk-container-id-3 div.sk-toggleable__content {max-height: 0;max-width: 0;overflow: hidden;text-align: left;background-color: #f0f8ff;}#sk-container-id-3 div.sk-toggleable__content pre {margin: 0.2em;color: black;border-radius: 0.25em;background-color: #f0f8ff;}#sk-container-id-3 input.sk-toggleable__control:checked~div.sk-toggleable__content {max-height: 200px;max-width: 100%;overflow: auto;}#sk-container-id-3 input.sk-toggleable__control:checked~label.sk-toggleable__label-arrow:before {content: \"▾\";}#sk-container-id-3 div.sk-estimator input.sk-toggleable__control:checked~label.sk-toggleable__label {background-color: #d4ebff;}#sk-container-id-3 div.sk-label input.sk-toggleable__control:checked~label.sk-toggleable__label {background-color: #d4ebff;}#sk-container-id-3 input.sk-hidden--visually {border: 0;clip: rect(1px 1px 1px 1px);clip: rect(1px, 1px, 1px, 1px);height: 1px;margin: -1px;overflow: hidden;padding: 0;position: absolute;width: 1px;}#sk-container-id-3 div.sk-estimator {font-family: monospace;background-color: #f0f8ff;border: 1px dotted black;border-radius: 0.25em;box-sizing: border-box;margin-bottom: 0.5em;}#sk-container-id-3 div.sk-estimator:hover {background-color: #d4ebff;}#sk-container-id-3 div.sk-parallel-item::after {content: \"\";width: 100%;border-bottom: 1px solid gray;flex-grow: 1;}#sk-container-id-3 div.sk-label:hover label.sk-toggleable__label {background-color: #d4ebff;}#sk-container-id-3 div.sk-serial::before {content: \"\";position: absolute;border-left: 1px solid gray;box-sizing: border-box;top: 0;bottom: 0;left: 50%;z-index: 0;}#sk-container-id-3 div.sk-serial {display: flex;flex-direction: column;align-items: center;background-color: white;padding-right: 0.2em;padding-left: 0.2em;position: relative;}#sk-container-id-3 div.sk-item {position: relative;z-index: 1;}#sk-container-id-3 div.sk-parallel {display: flex;align-items: stretch;justify-content: center;background-color: white;position: relative;}#sk-container-id-3 div.sk-item::before, #sk-container-id-3 div.sk-parallel-item::before {content: \"\";position: absolute;border-left: 1px solid gray;box-sizing: border-box;top: 0;bottom: 0;left: 50%;z-index: -1;}#sk-container-id-3 div.sk-parallel-item {display: flex;flex-direction: column;z-index: 1;position: relative;background-color: white;}#sk-container-id-3 div.sk-parallel-item:first-child::after {align-self: flex-end;width: 50%;}#sk-container-id-3 div.sk-parallel-item:last-child::after {align-self: flex-start;width: 50%;}#sk-container-id-3 div.sk-parallel-item:only-child::after {width: 0;}#sk-container-id-3 div.sk-dashed-wrapped {border: 1px dashed gray;margin: 0 0.4em 0.5em 0.4em;box-sizing: border-box;padding-bottom: 0.4em;background-color: white;}#sk-container-id-3 div.sk-label label {font-family: monospace;font-weight: bold;display: inline-block;line-height: 1.2em;}#sk-container-id-3 div.sk-label-container {text-align: center;}#sk-container-id-3 div.sk-container {/* jupyter's `normalize.less` sets `[hidden] { display: none; }` but bootstrap.min.css set `[hidden] { display: none !important; }` so we also need the `!important` here to be able to override the default hidden behavior on the sphinx rendered scikit-learn.org. See: https://github.com/scikit-learn/scikit-learn/issues/21755 */display: inline-block !important;position: relative;}#sk-container-id-3 div.sk-text-repr-fallback {display: none;}</style><div id=\"sk-container-id-3\" class=\"sk-top-container\"><div class=\"sk-text-repr-fallback\"><pre>RandomForestClassifier(n_estimators=500, random_state=1)</pre><b>In a Jupyter environment, please rerun this cell to show the HTML representation or trust the notebook. <br />On GitHub, the HTML representation is unable to render, please try loading this page with nbviewer.org.</b></div><div class=\"sk-container\" hidden><div class=\"sk-item\"><div class=\"sk-estimator sk-toggleable\"><input class=\"sk-toggleable__control sk-hidden--visually\" id=\"sk-estimator-id-3\" type=\"checkbox\" checked><label for=\"sk-estimator-id-3\" class=\"sk-toggleable__label sk-toggleable__label-arrow\">RandomForestClassifier</label><div class=\"sk-toggleable__content\"><pre>RandomForestClassifier(n_estimators=500, random_state=1)</pre></div></div></div></div></div>"
      ],
      "text/plain": [
       "RandomForestClassifier(n_estimators=500, random_state=1)"
      ]
     },
     "execution_count": 26,
     "metadata": {},
     "output_type": "execute_result"
    }
   ],
   "source": [
    "rf_classifier = RandomForestClassifier(n_estimators=500, random_state=1)\n",
    "rf_classifier.fit(X_train, y_train)"
   ]
  },
  {
   "cell_type": "code",
   "execution_count": 27,
   "id": "6efef96e-c18b-4700-861c-aeb3cbc37a9a",
   "metadata": {},
   "outputs": [],
   "source": [
    "y_pred = rf_classifier.predict(X_test)"
   ]
  },
  {
   "cell_type": "code",
   "execution_count": 28,
   "id": "97400ebf-296e-4d6a-8fd5-78c3d4dc94ce",
   "metadata": {},
   "outputs": [
    {
     "name": "stdout",
     "output_type": "stream",
     "text": [
      "Accuracy: 0.9302325581395349\n"
     ]
    }
   ],
   "source": [
    "accuracy = accuracy_score(y_test, y_pred)\n",
    "print(\"Accuracy:\", accuracy)"
   ]
  },
  {
   "cell_type": "code",
   "execution_count": null,
   "id": "a076f577-1a43-42fe-bbf0-ba3bf39dd5ea",
   "metadata": {},
   "outputs": [],
   "source": []
  }
 ],
 "metadata": {
  "kernelspec": {
   "display_name": "Python 3 (ipykernel)",
   "language": "python",
   "name": "python3"
  },
  "language_info": {
   "codemirror_mode": {
    "name": "ipython",
    "version": 3
   },
   "file_extension": ".py",
   "mimetype": "text/x-python",
   "name": "python",
   "nbconvert_exporter": "python",
   "pygments_lexer": "ipython3",
   "version": "3.11.5"
  }
 },
 "nbformat": 4,
 "nbformat_minor": 5
}
